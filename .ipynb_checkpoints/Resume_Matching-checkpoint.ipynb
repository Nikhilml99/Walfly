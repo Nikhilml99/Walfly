{
 "cells": [
  {
   "cell_type": "markdown",
   "id": "4e994ee8",
   "metadata": {},
   "source": [
    "# upload Resume"
   ]
  },
  {
   "cell_type": "code",
   "execution_count": 28,
   "id": "6f58a0f9",
   "metadata": {},
   "outputs": [],
   "source": [
    "import flask"
   ]
  },
  {
   "cell_type": "code",
   "execution_count": null,
   "id": "92e50a9f",
   "metadata": {},
   "outputs": [],
   "source": []
  },
  {
   "cell_type": "code",
   "execution_count": null,
   "id": "15cd56cc",
   "metadata": {},
   "outputs": [],
   "source": []
  },
  {
   "cell_type": "code",
   "execution_count": null,
   "id": "a064b8bc",
   "metadata": {},
   "outputs": [],
   "source": []
  },
  {
   "cell_type": "markdown",
   "id": "89b9a528",
   "metadata": {},
   "source": [
    "# Resume Matching :"
   ]
  },
  {
   "cell_type": "code",
   "execution_count": 17,
   "id": "20d758a4",
   "metadata": {},
   "outputs": [
    {
     "name": "stdout",
     "output_type": "stream",
     "text": [
      "similarityi between user resume and user data thats gets by code :  44.52313308991878\n"
     ]
    }
   ],
   "source": [
    "# import libraries\n",
    "\n",
    "import pandas as pd\n",
    "import numpy as np\n",
    "import docx2txt\n",
    "import matplotlib.pyplot as plt\n",
    "%matplotlib inline\n",
    "from sklearn.feature_extraction.text import CountVectorizer\n",
    "from sklearn.metrics.pairwise import cosine_similarity\n",
    "\n",
    "# losd\n",
    "resume =  docx2txt.process('S. Dent 2020.doc.docx')\n",
    "Job_Description = ['Business Management & Supervision, 2015\\n\\nSouthern Union State Community College, Wadley, AL\\n\\nAwards and Honors\\n\\n\\n\\n\\tOperation Enduring Freedom Veteran\\n\\n\\tTwo-time Army Achievement Medal Recipient\\n\\n\\tAwarded highest level of performance, “Exceeds Expectations,” 2016 Walmart Distribution\\n\\n\\tSeven-time Walmart Distribution Associate of the Month\\n\\n\\t\\n\\nAdditional Information\\n\\n\\n\\nLanguages:  English\\n\\nTechnical Proficiencies: Microsoft Office Suite\\n\\nWindows, servers, routers, LAN, wireless LAN, WMS, ADP, WSAM, JDA, SAP, KRONOS, KPI, Klipfolio, Timestation, ANT, GLS, Slack\\n\\n\\n\\nInterests: Exercise, Fashion, Reading, History and Travel\\n\\n\\t    \\n\\n \\n\\nCreated with an evaluation copy of Aspose.Words. To discover the full versions of our APIs please visit']\n",
    "Job_Description = str(Job_Description).replace('\\[\\]','')\n",
    "\n",
    "# countvector\n",
    "cv = CountVectorizer()\n",
    "text = [resume,Job_Description]\n",
    "count_matrix = cv.fit_transform(text)\n",
    "\n",
    "\n",
    "# return similarity value\n",
    "def resume_match():\n",
    "    text = [resume,Job_Description]\n",
    "    cv = CountVectorizer()\n",
    "    count_matrix = cv.fit_transform(text)\n",
    "    num = cosine_similarity(count_matrix)[1][0]*100\n",
    "    return num\n",
    "print('similarityi between user resume and user data thats gets by code : ',cosine_similarity(count_matrix)[1][0]*100)\n",
    "out = resume_match()\n"
   ]
  },
  {
   "cell_type": "code",
   "execution_count": null,
   "id": "159ab262",
   "metadata": {},
   "outputs": [],
   "source": [
    "\n",
    "    \n"
   ]
  },
  {
   "cell_type": "code",
   "execution_count": null,
   "id": "59c68349",
   "metadata": {},
   "outputs": [],
   "source": []
  },
  {
   "cell_type": "code",
   "execution_count": null,
   "id": "bfe336bd",
   "metadata": {},
   "outputs": [],
   "source": []
  },
  {
   "cell_type": "code",
   "execution_count": 2,
   "id": "930cadbf",
   "metadata": {},
   "outputs": [
    {
     "name": "stdout",
     "output_type": "stream",
     "text": [
      "Resume-Job Posting Similarity: 0.875512865605071\n"
     ]
    },
    {
     "name": "stderr",
     "output_type": "stream",
     "text": [
      "C:\\Users\\sharmanikhi\\AppData\\Local\\Temp\\ipykernel_4228\\1304861861.py:16: UserWarning: [W007] The model you're using has no word vectors loaded, so the result of the Doc.similarity method will be based on the tagger, parser and NER, which may not give useful similarity judgements. This may happen if you're using one of the small models, e.g. `en_core_web_sm`, which don't ship with word vectors and only use context-sensitive tensors. You can always add your own word vectors, or use one of the larger models instead if available.\n",
      "  similarity = job_posting_doc.similarity(resume_doc)\n"
     ]
    }
   ],
   "source": [
    "import spacy\n",
    "\n",
    "# Load the English language model for Spacy\n",
    "nlp = spacy.load('en_core_web_sm')\n",
    "\n",
    "# Define the job posting and resume texts\n",
    "#job_posting = \"We are looking for a software developer who has experience with Python and web development frameworks such as Django or Flask.\"\n",
    "#resume = \"I am a software developer with experience in Python and web development using Django and Flask.\"\n",
    "\n",
    "\n",
    "# Process the job posting and resume using Spacy\n",
    "job_posting_doc = nlp(Job_Description)\n",
    "resume_doc = nlp(resume)\n",
    "\n",
    "# Calculate the similarity between the job posting and resume using the cosine similarity metric\n",
    "similarity = job_posting_doc.similarity(resume_doc)\n",
    "\n",
    "print(\"Resume-Job Posting Similarity:\", similarity)\n"
   ]
  },
  {
   "cell_type": "code",
   "execution_count": null,
   "id": "51306226",
   "metadata": {},
   "outputs": [],
   "source": []
  },
  {
   "cell_type": "code",
   "execution_count": null,
   "id": "b6c2c63c",
   "metadata": {},
   "outputs": [],
   "source": []
  },
  {
   "cell_type": "code",
   "execution_count": null,
   "id": "49bf7ded",
   "metadata": {},
   "outputs": [],
   "source": []
  },
  {
   "cell_type": "code",
   "execution_count": null,
   "id": "aabee0d2",
   "metadata": {},
   "outputs": [],
   "source": [
    "from flask import Flask\n",
    "\n",
    "app = Flask(__name__)\n",
    "\n",
    "@app.route(\"/\")\n",
    "def hello():\n",
    "    return \"Hello, World!\"\n",
    "app.run(debug = False)"
   ]
  },
  {
   "cell_type": "code",
   "execution_count": null,
   "id": "4c6b108d",
   "metadata": {},
   "outputs": [],
   "source": []
  }
 ],
 "metadata": {
  "kernelspec": {
   "display_name": "Python 3 (ipykernel)",
   "language": "python",
   "name": "python3"
  },
  "language_info": {
   "codemirror_mode": {
    "name": "ipython",
    "version": 3
   },
   "file_extension": ".py",
   "mimetype": "text/x-python",
   "name": "python",
   "nbconvert_exporter": "python",
   "pygments_lexer": "ipython3",
   "version": "3.9.13"
  }
 },
 "nbformat": 4,
 "nbformat_minor": 5
}
