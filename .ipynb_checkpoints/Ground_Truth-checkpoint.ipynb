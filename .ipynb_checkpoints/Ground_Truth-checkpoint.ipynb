{
 "cells": [
  {
   "cell_type": "code",
   "execution_count": 3,
   "id": "4823e0a8",
   "metadata": {},
   "outputs": [],
   "source": [
    "import pandas as pd\n",
    "import numpy as np\n",
    "import matplotlib.pyplot as plt\n",
    "import Levenshtein"
   ]
  },
  {
   "cell_type": "code",
   "execution_count": 4,
   "id": "33e92024",
   "metadata": {},
   "outputs": [],
   "source": [
    "mannual_df = pd.read_csv('Mannual_Resume40.csv')\n",
    "code_df = pd.read_csv('sort_40resume.csv')\n",
    "\n",
    "#mannual_df.tail(5)\n",
    "\n"
   ]
  },
  {
   "cell_type": "code",
   "execution_count": 63,
   "id": "9d967294",
   "metadata": {},
   "outputs": [],
   "source": []
  },
  {
   "cell_type": "code",
   "execution_count": 97,
   "id": "72698456",
   "metadata": {},
   "outputs": [
    {
     "name": "stdout",
     "output_type": "stream",
     "text": [
      "Index(['Name', 'Email', 'Mobile', 'Skills', 'Designation', 'Experience_Period',\n",
      "       'education', 'countries', 'regions', 'cities', 'citi', 'Unnamed: 11',\n",
      "       'Unnamed: 12', 'skills'],\n",
      "      dtype='object')\n"
     ]
    }
   ],
   "source": [
    "print(code_df.columns)\n",
    "code_df['skills'] = code_df.Skills + code_df.Designation\n"
   ]
  },
  {
   "cell_type": "code",
   "execution_count": 68,
   "id": "235eb7d8",
   "metadata": {},
   "outputs": [
    {
     "data": {
      "text/plain": [
       "Index(['Name', 'Email', 'Mobile', 'Skills', 'Experience Period', 'Experience ',\n",
       "       'Education', 'Location', 'Country', 'Region', 'City',\n",
       "       'Specialist/Certification', 'Interest'],\n",
       "      dtype='object')"
      ]
     },
     "execution_count": 68,
     "metadata": {},
     "output_type": "execute_result"
    }
   ],
   "source": [
    "mannual_df.columns"
   ]
  },
  {
   "cell_type": "markdown",
   "id": "a2e05f87",
   "metadata": {},
   "source": [
    "# cosine similarity 1"
   ]
  },
  {
   "cell_type": "code",
   "execution_count": 6,
   "id": "a0886214",
   "metadata": {},
   "outputs": [
    {
     "data": {
      "text/plain": [
       "['Name=82.57812727594529',\n",
       " 'Mobile=92.62400967355052',\n",
       " 'Email=99.6068471858761']"
      ]
     },
     "execution_count": 6,
     "metadata": {},
     "output_type": "execute_result"
    }
   ],
   "source": [
    "# create count_vector function\n",
    "from sklearn.feature_extraction.text import CountVectorizer\n",
    "from sklearn.metrics.pairwise import cosine_similarity\n",
    "col_name = 'Email'\n",
    "num_lst = []\n",
    "# x = cosine_similarity(count_matrix)[1][0] * 100\n",
    "# m = str(mannual_df['Mobile']).replace('\\[\\]','')\n",
    "\n",
    "Name = []\n",
    "Email = []\n",
    "Skills = []\n",
    "Experience = []\n",
    "Education = []\n",
    "Location = []\n",
    "\n",
    "# count_vector\n",
    "def my_count_vector(text):\n",
    "    cv = CountVectorizer()\n",
    "    count_matrix = cv.fit_transform(text)\n",
    "    return count_matrix\n",
    "\n",
    "# cosine similarity\n",
    "\n",
    "def my_textO_similarity(count_matrix):\n",
    "    #print(cosine_similarity(count_matrix))\n",
    "    x = cosine_similarity(count_matrix)[1][0] * 100\n",
    "    return x\n",
    "for i in ['Name','Mobile','Email']:\n",
    "    \n",
    "    mannual = str(mannual_df[f'{i}']).replace('\\[\\]','')\n",
    "    code = str(code_df[f'{i}']).replace('\\[\\]','')\n",
    "    text = [mannual,code]\n",
    "\n",
    "    count_matrix = my_count_vector(text)\n",
    "    x=my_textO_similarity(count_matrix)\n",
    "\n",
    "    result_name = ('{}={}'.format(i,x))\n",
    "    num_lst.append(result_name)\n",
    "\n",
    "num_lst  "
   ]
  },
  {
   "cell_type": "code",
   "execution_count": 33,
   "id": "94c345ab",
   "metadata": {},
   "outputs": [
    {
     "data": {
      "text/plain": [
       "['Location = 49.235735965572594']"
      ]
     },
     "execution_count": 33,
     "metadata": {},
     "output_type": "execute_result"
    }
   ],
   "source": [
    "# create count_vector function [test code]\n",
    "from sklearn.feature_extraction.text import CountVectorizer\n",
    "from sklearn.metrics.pairwise import cosine_similarity\n",
    "col_name = 'Email'\n",
    "num_lst = []\n",
    "# x = cosine_similarity(count_matrix)[1][0] * 100\n",
    "# m = str(mannual_df['Mobile']).replace('\\[\\]','')\n",
    "\n",
    "Name = []\n",
    "Email = []\n",
    "Skills = []\n",
    "Experience = []\n",
    "Education = []\n",
    "Location = []\n",
    "\n",
    "# count_vector\n",
    "def my_count_vector(text):\n",
    "    cv = CountVectorizer()\n",
    "    count_matrix = cv.fit_transform(text)\n",
    "    return count_matrix\n",
    "\n",
    "# cosine similarity\n",
    "\n",
    "def my_textO_similarity(count_matrix):\n",
    "    #print(cosine_similarity(count_matrix))\n",
    "    x = cosine_similarity(count_matrix)[1][0] * 100\n",
    "    return x\n",
    "    \n",
    "mannual = str(mannual_df['Location']).replace('\\[\\]','')\n",
    "code = str(code_df['citi']).replace('\\[\\]','')\n",
    "text = [mannual,code]\n",
    "\n",
    "count_matrix = my_count_vector(text)\n",
    "x=my_textO_similarity(count_matrix)\n",
    "\n",
    "result_name = ('Location = {}'.format(x))\n",
    "num_lst.append(result_name)\n",
    "\n",
    "num_lst  "
   ]
  },
  {
   "cell_type": "code",
   "execution_count": null,
   "id": "d389ade6",
   "metadata": {},
   "outputs": [],
   "source": []
  },
  {
   "cell_type": "markdown",
   "id": "21dea9e7",
   "metadata": {},
   "source": [
    "# ground truth visualization \n"
   ]
  },
  {
   "cell_type": "code",
   "execution_count": null,
   "id": "7107fd08",
   "metadata": {},
   "outputs": [],
   "source": [
    "['Education = 44.13674587364234']\n",
    "['Location = 49.235735965572594']"
   ]
  },
  {
   "cell_type": "code",
   "execution_count": 35,
   "id": "42e49d35",
   "metadata": {},
   "outputs": [
    {
     "data": {
      "text/html": [
       "<div>\n",
       "<style scoped>\n",
       "    .dataframe tbody tr th:only-of-type {\n",
       "        vertical-align: middle;\n",
       "    }\n",
       "\n",
       "    .dataframe tbody tr th {\n",
       "        vertical-align: top;\n",
       "    }\n",
       "\n",
       "    .dataframe thead tr th {\n",
       "        text-align: left;\n",
       "    }\n",
       "</style>\n",
       "<table border=\"1\" class=\"dataframe\">\n",
       "  <thead>\n",
       "    <tr>\n",
       "      <th></th>\n",
       "      <th colspan=\"6\" halign=\"left\">Manual Resume</th>\n",
       "    </tr>\n",
       "    <tr>\n",
       "      <th></th>\n",
       "      <th>Name</th>\n",
       "      <th>Email</th>\n",
       "      <th>Mobile</th>\n",
       "      <th>Skills</th>\n",
       "      <th>Education</th>\n",
       "      <th>Location</th>\n",
       "    </tr>\n",
       "  </thead>\n",
       "  <tbody>\n",
       "    <tr>\n",
       "      <th>Name</th>\n",
       "      <td>82.57</td>\n",
       "      <td>0.0</td>\n",
       "      <td>0.00</td>\n",
       "      <td>0.0</td>\n",
       "      <td>0.00</td>\n",
       "      <td>0.00</td>\n",
       "    </tr>\n",
       "    <tr>\n",
       "      <th>Email</th>\n",
       "      <td>0.00</td>\n",
       "      <td>99.6</td>\n",
       "      <td>0.00</td>\n",
       "      <td>0.0</td>\n",
       "      <td>0.00</td>\n",
       "      <td>0.00</td>\n",
       "    </tr>\n",
       "    <tr>\n",
       "      <th>Mobile</th>\n",
       "      <td>NaN</td>\n",
       "      <td>NaN</td>\n",
       "      <td>92.62</td>\n",
       "      <td>0.0</td>\n",
       "      <td>0.00</td>\n",
       "      <td>0.00</td>\n",
       "    </tr>\n",
       "    <tr>\n",
       "      <th>Skills</th>\n",
       "      <td>NaN</td>\n",
       "      <td>NaN</td>\n",
       "      <td>NaN</td>\n",
       "      <td>66.0</td>\n",
       "      <td>0.00</td>\n",
       "      <td>0.00</td>\n",
       "    </tr>\n",
       "    <tr>\n",
       "      <th>Education</th>\n",
       "      <td>NaN</td>\n",
       "      <td>NaN</td>\n",
       "      <td>NaN</td>\n",
       "      <td>NaN</td>\n",
       "      <td>44.13</td>\n",
       "      <td>0.00</td>\n",
       "    </tr>\n",
       "    <tr>\n",
       "      <th>Location</th>\n",
       "      <td>NaN</td>\n",
       "      <td>NaN</td>\n",
       "      <td>NaN</td>\n",
       "      <td>NaN</td>\n",
       "      <td>NaN</td>\n",
       "      <td>49.23</td>\n",
       "    </tr>\n",
       "  </tbody>\n",
       "</table>\n",
       "</div>"
      ],
      "text/plain": [
       "          Manual Resume                                       \n",
       "                   Name Email Mobile Skills Education Location\n",
       "Name              82.57   0.0   0.00    0.0      0.00     0.00\n",
       "Email              0.00  99.6   0.00    0.0      0.00     0.00\n",
       "Mobile              NaN   NaN  92.62    0.0      0.00     0.00\n",
       "Skills              NaN   NaN    NaN   66.0      0.00     0.00\n",
       "Education           NaN   NaN    NaN    NaN     44.13     0.00\n",
       "Location            NaN   NaN    NaN    NaN       NaN    49.23"
      ]
     },
     "execution_count": 35,
     "metadata": {},
     "output_type": "execute_result"
    }
   ],
   "source": [
    "# table = pd.DataFrame({\n",
    "# ('Manual Resume', 'Name'): {('Extracted Resume', 'Name'): 82.57, ('Extracted Resume', 'Email'): 0},\n",
    "# ('Manual Resume', 'Email'): {('Extracted Resume', 'Name'): 0, ('Extracted Resume', 'Email'): 99.60},\n",
    "# ('Manual Resume', 'Mobile'): {('Extracted Resume', 'Name'): 0, ('Extracted Resume', 'Email'): 0, ('Extracted Resume', 'Mobile'): 92.62},\n",
    "# ('Manual Resume', 'Skills'): {('Extracted Resume', 'Name'): 0, ('Extracted Resume', 'Email'): 0, ('Extracted Resume', 'Mobile'): 0,('Extracted Resume','Skills'):66.00},\n",
    "# ('Manual Resume', 'Education'): {('Extracted Resume', 'Name'): 0, ('Extracted Resume', 'Email'): 0, ('Extracted Resume', 'Mobile'): 0,('Extracted Resume','Skills'):0,('Extracted Resume','Education'):44.13},\n",
    "# ('Manual Resume', 'Location'): {('Extracted Resume', 'Name'): 0, ('Extracted Resume', 'Email'): 0, ('Extracted Resume', 'Mobile'): 0,('Extracted Resume','Skills'):0,('Extracted Resume','Education'):0,('Extracted Resume','Location'):49.23},\n",
    "    \n",
    "#     })\n",
    "\n",
    "\n",
    "table = pd.DataFrame({\n",
    "('Manual Resume', 'Name'): {('Name'): 82.57, ('Email'): 0},\n",
    "('Manual Resume', 'Email'): {('Name'): 0, ('Email'): 99.60},\n",
    "('Manual Resume', 'Mobile'): {('Name'): 0, ('Email'): 0, ('Mobile'): 92.62},\n",
    "('Manual Resume', 'Skills'): {('Name'): 0, ('Email'): 0, ('Mobile'): 0,('Skills'):66.00},\n",
    "('Manual Resume', 'Education'): {('Name'): 0, ('Email'): 0, ('Mobile'): 0,('Skills'):0,('Education'):44.13},\n",
    "('Manual Resume', 'Location'): {('Name'): 0, ('Email'): 0, ('Mobile'): 0,('Skills'):0,('Education'):0,('Location'):49.23},\n",
    "    \n",
    "    })\n",
    "\n",
    "table"
   ]
  },
  {
   "cell_type": "code",
   "execution_count": 36,
   "id": "4b89f165",
   "metadata": {},
   "outputs": [
    {
     "data": {
      "text/html": [
       "<style type=\"text/css\">\n",
       "#T_3649b_row0_col0, #T_3649b_row1_col1, #T_3649b_row2_col0, #T_3649b_row2_col1, #T_3649b_row2_col2, #T_3649b_row3_col0, #T_3649b_row3_col1, #T_3649b_row3_col2, #T_3649b_row3_col3, #T_3649b_row4_col0, #T_3649b_row4_col1, #T_3649b_row4_col2, #T_3649b_row4_col3, #T_3649b_row4_col4, #T_3649b_row5_col0, #T_3649b_row5_col1, #T_3649b_row5_col2, #T_3649b_row5_col3, #T_3649b_row5_col4, #T_3649b_row5_col5 {\n",
       "  color: green;\n",
       "}\n",
       "#T_3649b_row0_col1, #T_3649b_row0_col2, #T_3649b_row0_col3, #T_3649b_row0_col4, #T_3649b_row0_col5, #T_3649b_row1_col0, #T_3649b_row1_col2, #T_3649b_row1_col3, #T_3649b_row1_col4, #T_3649b_row1_col5, #T_3649b_row2_col3, #T_3649b_row2_col4, #T_3649b_row2_col5, #T_3649b_row3_col4, #T_3649b_row3_col5, #T_3649b_row4_col5 {\n",
       "  color: red;\n",
       "}\n",
       "</style>\n",
       "<table id=\"T_3649b\">\n",
       "  <thead>\n",
       "    <tr>\n",
       "      <th class=\"blank level0\" >&nbsp;</th>\n",
       "      <th id=\"T_3649b_level0_col0\" class=\"col_heading level0 col0\" colspan=\"6\">Manual Resume</th>\n",
       "    </tr>\n",
       "    <tr>\n",
       "      <th class=\"blank level1\" >&nbsp;</th>\n",
       "      <th id=\"T_3649b_level1_col0\" class=\"col_heading level1 col0\" >Name</th>\n",
       "      <th id=\"T_3649b_level1_col1\" class=\"col_heading level1 col1\" >Email</th>\n",
       "      <th id=\"T_3649b_level1_col2\" class=\"col_heading level1 col2\" >Mobile</th>\n",
       "      <th id=\"T_3649b_level1_col3\" class=\"col_heading level1 col3\" >Skills</th>\n",
       "      <th id=\"T_3649b_level1_col4\" class=\"col_heading level1 col4\" >Education</th>\n",
       "      <th id=\"T_3649b_level1_col5\" class=\"col_heading level1 col5\" >Location</th>\n",
       "    </tr>\n",
       "  </thead>\n",
       "  <tbody>\n",
       "    <tr>\n",
       "      <th id=\"T_3649b_level0_row0\" class=\"row_heading level0 row0\" >Name</th>\n",
       "      <td id=\"T_3649b_row0_col0\" class=\"data row0 col0\" >82.570000</td>\n",
       "      <td id=\"T_3649b_row0_col1\" class=\"data row0 col1\" >0.000000</td>\n",
       "      <td id=\"T_3649b_row0_col2\" class=\"data row0 col2\" >0.000000</td>\n",
       "      <td id=\"T_3649b_row0_col3\" class=\"data row0 col3\" >0.000000</td>\n",
       "      <td id=\"T_3649b_row0_col4\" class=\"data row0 col4\" >0.000000</td>\n",
       "      <td id=\"T_3649b_row0_col5\" class=\"data row0 col5\" >0.000000</td>\n",
       "    </tr>\n",
       "    <tr>\n",
       "      <th id=\"T_3649b_level0_row1\" class=\"row_heading level0 row1\" >Email</th>\n",
       "      <td id=\"T_3649b_row1_col0\" class=\"data row1 col0\" >0.000000</td>\n",
       "      <td id=\"T_3649b_row1_col1\" class=\"data row1 col1\" >99.600000</td>\n",
       "      <td id=\"T_3649b_row1_col2\" class=\"data row1 col2\" >0.000000</td>\n",
       "      <td id=\"T_3649b_row1_col3\" class=\"data row1 col3\" >0.000000</td>\n",
       "      <td id=\"T_3649b_row1_col4\" class=\"data row1 col4\" >0.000000</td>\n",
       "      <td id=\"T_3649b_row1_col5\" class=\"data row1 col5\" >0.000000</td>\n",
       "    </tr>\n",
       "    <tr>\n",
       "      <th id=\"T_3649b_level0_row2\" class=\"row_heading level0 row2\" >Mobile</th>\n",
       "      <td id=\"T_3649b_row2_col0\" class=\"data row2 col0\" >nan</td>\n",
       "      <td id=\"T_3649b_row2_col1\" class=\"data row2 col1\" >nan</td>\n",
       "      <td id=\"T_3649b_row2_col2\" class=\"data row2 col2\" >92.620000</td>\n",
       "      <td id=\"T_3649b_row2_col3\" class=\"data row2 col3\" >0.000000</td>\n",
       "      <td id=\"T_3649b_row2_col4\" class=\"data row2 col4\" >0.000000</td>\n",
       "      <td id=\"T_3649b_row2_col5\" class=\"data row2 col5\" >0.000000</td>\n",
       "    </tr>\n",
       "    <tr>\n",
       "      <th id=\"T_3649b_level0_row3\" class=\"row_heading level0 row3\" >Skills</th>\n",
       "      <td id=\"T_3649b_row3_col0\" class=\"data row3 col0\" >nan</td>\n",
       "      <td id=\"T_3649b_row3_col1\" class=\"data row3 col1\" >nan</td>\n",
       "      <td id=\"T_3649b_row3_col2\" class=\"data row3 col2\" >nan</td>\n",
       "      <td id=\"T_3649b_row3_col3\" class=\"data row3 col3\" >66.000000</td>\n",
       "      <td id=\"T_3649b_row3_col4\" class=\"data row3 col4\" >0.000000</td>\n",
       "      <td id=\"T_3649b_row3_col5\" class=\"data row3 col5\" >0.000000</td>\n",
       "    </tr>\n",
       "    <tr>\n",
       "      <th id=\"T_3649b_level0_row4\" class=\"row_heading level0 row4\" >Education</th>\n",
       "      <td id=\"T_3649b_row4_col0\" class=\"data row4 col0\" >nan</td>\n",
       "      <td id=\"T_3649b_row4_col1\" class=\"data row4 col1\" >nan</td>\n",
       "      <td id=\"T_3649b_row4_col2\" class=\"data row4 col2\" >nan</td>\n",
       "      <td id=\"T_3649b_row4_col3\" class=\"data row4 col3\" >nan</td>\n",
       "      <td id=\"T_3649b_row4_col4\" class=\"data row4 col4\" >44.130000</td>\n",
       "      <td id=\"T_3649b_row4_col5\" class=\"data row4 col5\" >0.000000</td>\n",
       "    </tr>\n",
       "    <tr>\n",
       "      <th id=\"T_3649b_level0_row5\" class=\"row_heading level0 row5\" >Location</th>\n",
       "      <td id=\"T_3649b_row5_col0\" class=\"data row5 col0\" >nan</td>\n",
       "      <td id=\"T_3649b_row5_col1\" class=\"data row5 col1\" >nan</td>\n",
       "      <td id=\"T_3649b_row5_col2\" class=\"data row5 col2\" >nan</td>\n",
       "      <td id=\"T_3649b_row5_col3\" class=\"data row5 col3\" >nan</td>\n",
       "      <td id=\"T_3649b_row5_col4\" class=\"data row5 col4\" >nan</td>\n",
       "      <td id=\"T_3649b_row5_col5\" class=\"data row5 col5\" >49.230000</td>\n",
       "    </tr>\n",
       "  </tbody>\n",
       "</table>\n"
      ],
      "text/plain": [
       "<pandas.io.formats.style.Styler at 0x1c158670d90>"
      ]
     },
     "execution_count": 36,
     "metadata": {},
     "output_type": "execute_result"
    }
   ],
   "source": [
    "def _color_red_or_green(val):\n",
    "    color = 'red' if val < 40 else 'green'\n",
    "    return 'color: %s' % color\n",
    "\n",
    "table.style.applymap(_color_red_or_green)"
   ]
  },
  {
   "cell_type": "code",
   "execution_count": null,
   "id": "679925c0",
   "metadata": {},
   "outputs": [],
   "source": []
  },
  {
   "cell_type": "code",
   "execution_count": 67,
   "id": "821bb82f",
   "metadata": {},
   "outputs": [
    {
     "data": {
      "image/png": "[encoded data removed]",
      "text/plain": [
       "<Figure size 640x480 with 1 Axes>"
      ]
     },
     "metadata": {},
     "output_type": "display_data"
    }
   ],
   "source": [
    "# bar chart\n",
    "table.plot.bar(legend='',colormap='Paired',stacked=False,align='edge')\n",
    "#plt.title('Similarity rate between Ground truth and Resume_Parse files',color='#164ddd',fontsize=12)\n",
    "plt.xticks(rotation=40,color='#164dd5')\n",
    "plt.show()"
   ]
  },
  {
   "cell_type": "markdown",
   "id": "a6a7f6b3",
   "metadata": {},
   "source": [
    "# Levenshtein 2:\n"
   ]
  },
  {
   "cell_type": "code",
   "execution_count": 54,
   "id": "3d7ca164",
   "metadata": {},
   "outputs": [
    {
     "data": {
      "text/plain": [
       "56.41025641025641"
      ]
     },
     "execution_count": 54,
     "metadata": {},
     "output_type": "execute_result"
    }
   ],
   "source": [
    "import Levenshtein\n",
    "manual_df = pd.read_csv('Mannual_Resume40.csv')\n",
    "code_df = pd.read_csv('sort_40resume.csv')\n",
    "\n",
    "# M_namemanual = manual_df.Name\n",
    "# c_namemanual = code_df.Name\n",
    "\n",
    "manual_df.Name\n",
    "\n",
    "\n",
    "M_name_df = pd.DataFrame(M_namemanual)\n",
    "C_name_df = pd.DataFrame(c_namemanual)\n",
    "\n",
    "M_name_df['Code_Name'] = C_name_df\n",
    "\n",
    "\n",
    "\n",
    "# make dataframe manual and code data\n",
    "\n",
    "M_namemanual = manual_df.Name\n",
    "c_namemanual = code_df.Name\n",
    "\n",
    "\n",
    "def create_df(m=M_namemanual,c=c_namemanual):\n",
    "    M_name_df = pd.DataFrame(m)\n",
    "    C_name_df = pd.DataFrame(c)\n",
    "    M_name_df['Code_Name'] = C_name_df\n",
    "    return(M_name_df)\n",
    "out = create_df()\n",
    "\n",
    "\n",
    "str1 = out.Name\n",
    "str2 = out.Code_Name\n",
    "def text_similarity(str1,str2):\n",
    "    distance = Levenshtein.distance(str1,str2)\n",
    "    similarity = 100 - ((distance / max(len(str1),len(str2)))) * 100\n",
    "    return similarity\n",
    "text_similarity(str1,str2)\n"
   ]
  },
  {
   "cell_type": "code",
   "execution_count": null,
   "id": "40b238bc",
   "metadata": {},
   "outputs": [],
   "source": []
  },
  {
   "cell_type": "code",
   "execution_count": null,
   "id": "af2dbd91",
   "metadata": {},
   "outputs": [],
   "source": []
  },
  {
   "cell_type": "code",
   "execution_count": null,
   "id": "589f0160",
   "metadata": {},
   "outputs": [],
   "source": []
  }
 ],
 "metadata": {
  "kernelspec": {
   "display_name": "Python 3 (ipykernel)",
   "language": "python",
   "name": "python3"
  },
  "language_info": {
   "codemirror_mode": {
    "name": "ipython",
    "version": 3
   },
   "file_extension": ".py",
   "mimetype": "text/x-python",
   "name": "python",
   "nbconvert_exporter": "python",
   "pygments_lexer": "ipython3",
   "version": "3.9.13"
  }
 },
 "nbformat": 4,
 "nbformat_minor": 5
}
